{
 "cells": [
  {
   "cell_type": "raw",
   "metadata": {
    "vscode": {
     "languageId": "raw"
    }
   },
   "source": [
    "---\n",
    "sidebar_label: CogCache\n",
    "---"
   ]
  },
  {
   "cell_type": "markdown",
   "metadata": {},
   "source": [
    "# CogCache\n",
    "\n",
    "This notebook shows how to use LangChain with CogCache [chat models](/docs/concepts/#chat-models). For detailed documentation of all ChatCogCache features and configurations head to the [API reference](https://python.langchain.com/api_reference/community/chat_models/langchain_community.chat_models.cogcache.ChatCogCache.html).\n",
    "\n",
    "CogCache has several chat models. You can find information about their latest models and their costs, context windows, and supported input types in the [CogCache docs](https://cogcache.readme.io/reference/models).\n"
   ]
  },
  {
   "cell_type": "code",
   "execution_count": 1,
   "metadata": {},
   "outputs": [],
   "source": [
    "import getpass\n",
    "import os\n",
    "\n",
    "if not os.environ.get(\"COGCACHE_API_KEY\"):\n",
    "    os.environ[\"COGCACHE_API_KEY\"] = getpass.getpass(\"Enter your CogCache API key: \")"
   ]
  },
  {
   "cell_type": "markdown",
   "metadata": {},
   "source": [
    "### Installation\n",
    "\n",
    "The LangChain CogCache integration lives in the `langchain` package:"
   ]
  },
  {
   "cell_type": "code",
   "execution_count": null,
   "metadata": {},
   "outputs": [],
   "source": [
    "%pip install -qU langchain"
   ]
  },
  {
   "cell_type": "markdown",
   "metadata": {},
   "source": [
    "## Instantiation\n",
    "\n",
    "Now we can instantiate our model object and generate chat completions:"
   ]
  },
  {
   "cell_type": "code",
   "execution_count": 15,
   "metadata": {},
   "outputs": [],
   "source": [
    "from langchain_community.chat_models import ChatCogCache\n",
    "\n",
    "llm = ChatCogCache(\n",
    "    api_key=\"YOUR_API_KEY\",\n",
    "    model=\"gpt-4o-2024-08-06\",\n",
    "    # temperature=0,\n",
    "    # max_tokens=None,\n",
    "    # n=1,\n",
    "    # verbose=True,\n",
    "    # timeout=None,\n",
    "    # model_kwargs={ \"response_format\": { \"type\": \"json_object\" } }\n",
    "    # default_headers={\"Cache-Control\": \"no-store\"}\n",
    "    # ...\n",
    "    # other params...\n",
    ")"
   ]
  },
  {
   "cell_type": "markdown",
   "metadata": {},
   "source": [
    "## Invocation"
   ]
  },
  {
   "cell_type": "code",
   "execution_count": 4,
   "metadata": {},
   "outputs": [
    {
     "data": {
      "text/plain": [
       "AIMessage(content=\"J'aime programmer.\", additional_kwargs={}, response_metadata={'token_usage': {'prompt_tokens': 31, 'completion_tokens': 4, 'total_tokens': 35, 'latency_time': 0.002396106719970703}, 'model_name': 'gpt-4o-2024-08-06', 'system_fingerprint': 'fp_d54531d9eb', 'finish_reason': 'stop', 'logprobs': None}, id='run-e7722a39-eeaf-4c71-9726-10d58a8ad87f-0')"
      ]
     },
     "execution_count": 4,
     "metadata": {},
     "output_type": "execute_result"
    }
   ],
   "source": [
    "messages = [\n",
    "    (\n",
    "        \"system\",\n",
    "        \"You are a helpful assistant that translates English to French. Translate the user sentence.\",\n",
    "    ),\n",
    "    (\"human\", \"I love programming.\"),\n",
    "]\n",
    "ai_msg = llm.invoke(messages)\n",
    "ai_msg"
   ]
  },
  {
   "cell_type": "code",
   "execution_count": 5,
   "metadata": {},
   "outputs": [
    {
     "name": "stdout",
     "output_type": "stream",
     "text": [
      "J'aime programmer.\n"
     ]
    }
   ],
   "source": [
    "print(ai_msg.content)"
   ]
  },
  {
   "cell_type": "markdown",
   "metadata": {},
   "source": [
    "## Streaming"
   ]
  },
  {
   "cell_type": "code",
   "execution_count": 6,
   "metadata": {},
   "outputs": [
    {
     "name": "stdout",
     "output_type": "stream",
     "text": [
      "content='' additional_kwargs={} response_metadata={'model_name': 'gpt-4o-2024-08-06', 'system_fingerprint': 'fp_d54531d9eb'} id='run-0865242f-0dbe-4db6-94df-078df0f84c22'\n",
      "content='J' additional_kwargs={} response_metadata={'model_name': 'gpt-4o-2024-08-06', 'system_fingerprint': 'fp_d54531d9eb'} id='run-0865242f-0dbe-4db6-94df-078df0f84c22'\n",
      "content=\"'\" additional_kwargs={} response_metadata={'model_name': 'gpt-4o-2024-08-06', 'system_fingerprint': 'fp_d54531d9eb'} id='run-0865242f-0dbe-4db6-94df-078df0f84c22'\n",
      "content='aime' additional_kwargs={} response_metadata={'model_name': 'gpt-4o-2024-08-06', 'system_fingerprint': 'fp_d54531d9eb'} id='run-0865242f-0dbe-4db6-94df-078df0f84c22'\n",
      "content=' ' additional_kwargs={} response_metadata={'model_name': 'gpt-4o-2024-08-06', 'system_fingerprint': 'fp_d54531d9eb'} id='run-0865242f-0dbe-4db6-94df-078df0f84c22'\n",
      "content='programmer' additional_kwargs={} response_metadata={'model_name': 'gpt-4o-2024-08-06', 'system_fingerprint': 'fp_d54531d9eb'} id='run-0865242f-0dbe-4db6-94df-078df0f84c22'\n",
      "content='.' additional_kwargs={} response_metadata={'model_name': 'gpt-4o-2024-08-06', 'system_fingerprint': 'fp_d54531d9eb'} id='run-0865242f-0dbe-4db6-94df-078df0f84c22'\n",
      "content='' additional_kwargs={} response_metadata={'finish_reason': 'stop', 'model_name': 'gpt-4o-2024-08-06', 'system_fingerprint': 'fp_d54531d9eb'} id='run-0865242f-0dbe-4db6-94df-078df0f84c22'\n"
     ]
    }
   ],
   "source": [
    "messages = [\n",
    "    (\n",
    "        \"system\",\n",
    "        \"You are a helpful assistant that translates English to French. Translate the user sentence.\",\n",
    "    ),\n",
    "    (\"human\", \"I love programming.\"),\n",
    "]\n",
    "ai_stream = llm.stream(messages)\n",
    "\n",
    "for ai_msg in ai_stream:\n",
    "    print(ai_msg)"
   ]
  },
  {
   "cell_type": "markdown",
   "metadata": {},
   "source": [
    "## Chaining\n",
    "\n",
    "We can [chain](/docs/how_to/sequence/) our model with a prompt template like so:"
   ]
  },
  {
   "cell_type": "code",
   "execution_count": 7,
   "metadata": {},
   "outputs": [
    {
     "data": {
      "text/plain": [
       "AIMessage(content='Estoy escribiendo en español. Me encanta programar.', additional_kwargs={}, response_metadata={'token_usage': {'prompt_tokens': 31, 'completion_tokens': 11, 'total_tokens': 42, 'latency_time': 2.6073453426361084}, 'model_name': 'gpt-4o-2024-08-06', 'system_fingerprint': 'fp_d54531d9eb', 'finish_reason': 'stop', 'logprobs': None}, id='run-2d019da0-665e-4a98-b440-11d6128ba2e0-0')"
      ]
     },
     "execution_count": 7,
     "metadata": {},
     "output_type": "execute_result"
    }
   ],
   "source": [
    "from langchain_core.prompts import ChatPromptTemplate\n",
    "\n",
    "prompt = ChatPromptTemplate.from_messages(\n",
    "    [\n",
    "        (\n",
    "            \"system\",\n",
    "            \"You are a helpful assistant that translates {input_language} to {output_language}.\",\n",
    "        ),\n",
    "        (\"human\", \"{input}\"),\n",
    "    ]\n",
    ")\n",
    "\n",
    "chain = prompt | llm\n",
    "chain.invoke(\n",
    "    {\n",
    "        \"input_language\": \"English\",\n",
    "        \"output_language\": \"Spanish\",\n",
    "        \"input\": \"I am writing spanish. I love programming.\",\n",
    "    }\n",
    ")"
   ]
  },
  {
   "cell_type": "markdown",
   "metadata": {},
   "source": [
    "## Add parameters in individual invocation\n",
    "\n",
    "Instead of putting all parameters during class instantiation. We can pass parameters in individual invocation."
   ]
  },
  {
   "cell_type": "code",
   "execution_count": 17,
   "metadata": {},
   "outputs": [
    {
     "data": {
      "text/plain": [
       "AIMessage(content=\"J'aime programmer.\", additional_kwargs={}, response_metadata={'token_usage': {'prompt_tokens': 31, 'completion_tokens': 4, 'total_tokens': 35, 'latency_time': 0.0024280548095703125}, 'model_name': 'gpt-4o-2024-08-06', 'system_fingerprint': 'fp_d54531d9eb', 'finish_reason': 'stop', 'logprobs': None}, id='run-aedc9d7c-78b4-4593-a5e1-85a9d36b05e9-0')"
      ]
     },
     "execution_count": 17,
     "metadata": {},
     "output_type": "execute_result"
    }
   ],
   "source": [
    "from langchain_community.chat_models import ChatCogCache\n",
    "\n",
    "llm = ChatCogCache(\n",
    "    api_key=\"YOUR_API_KEY\",\n",
    ")\n",
    "\n",
    "messages = [\n",
    "    (\n",
    "        \"system\",\n",
    "        \"You are a helpful assistant that translates English to French. Translate the user sentence.\",\n",
    "    ),\n",
    "    (\"human\", \"I love programming.\"),\n",
    "]\n",
    "llm.invoke(\n",
    "    messages,\n",
    "    model=\"gpt-4o-2024-08-06\",\n",
    "    # temperature=0,\n",
    "    # max_tokens=None,\n",
    "    # n=1\n",
    ")"
   ]
  },
  {
   "cell_type": "markdown",
   "metadata": {},
   "source": [
    "## Caching behavior\n",
    "\n",
    "CogCache automatically caches our responses by default. This feature enhances response speed and promotes cost savings."
   ]
  },
  {
   "cell_type": "code",
   "execution_count": 23,
   "metadata": {},
   "outputs": [],
   "source": [
    "from langchain_community.chat_models import ChatCogCache\n",
    "\n",
    "llm = ChatCogCache(\n",
    "    api_key=\"YOUR_API_KEY\",\n",
    "    model=\"gpt-4o-2024-08-06\",\n",
    "    include_response_headers=True\n",
    ")\n",
    "messages = [\n",
    "    (\n",
    "        \"system\",\n",
    "        \"You are a helpful assistant.\",\n",
    "    ),\n",
    "    (\"human\", \"How does photosynthesis work?\"),\n",
    "]\n"
   ]
  },
  {
   "cell_type": "markdown",
   "metadata": {},
   "source": [
    "### First time prompt"
   ]
  },
  {
   "cell_type": "code",
   "execution_count": 12,
   "metadata": {},
   "outputs": [
    {
     "name": "stdout",
     "output_type": "stream",
     "text": [
      "CPU times: user 4.92 ms, sys: 2.66 ms, total: 7.58 ms\n",
      "Wall time: 12.2 s\n"
     ]
    },
    {
     "data": {
      "text/plain": [
       "AIMessage(content=\"Photosynthesis is the process by which green plants, algae, and some bacteria convert light energy into chemical energy stored in glucose. This process primarily occurs in the chloroplasts of plant cells. Here's a simplified overview of how it works:\\n\\n1. **Light Absorption**: Chlorophyll, the green pigment in chloroplasts, absorbs sunlight, primarily in the blue and red wavelengths.\\n\\n2. **Water Splitting (Photolysis)**: The absorbed light energy is used to split water molecules (H₂O) into oxygen, protons, and electrons. This occurs in the thylakoid membranes of the chloroplasts.\\n\\n3. **Oxygen Release**: Oxygen (O₂) is released as a byproduct into the atmosphere.\\n\\n4. **Electron Transport Chain**: The electrons released from water splitting are transferred through a series of proteins embedded in the thylakoid membrane, known as the electron transport chain. This movement helps generate ATP and NADPH.\\n\\n5. **ATP and NADPH Formation**: The energy from the electrons is used to convert ADP and NADP⁺ into ATP and NADPH, respectively. These molecules are energy carriers used in the next stage of photosynthesis.\\n\\n6. **Calvin Cycle (Carbon Fixation)**: In the stroma of the chloroplasts, ATP and NADPH from the light-dependent reactions are used to convert carbon dioxide (CO₂) from the atmosphere into glucose. This cycle involves a series of reactions that incorporate CO₂ into organic molecules.\\n\\nOverall, photosynthesis can be summed up by the equation:\\n\\n\\\\[ 6CO₂ + 6H₂O + light \\\\ energy \\\\rightarrow C₆H₁₂O₆ + 6O₂ \\\\]\\n\\nThis process is crucial for life on Earth as it provides oxygen and organic compounds used by most organisms for energy.\", additional_kwargs={}, response_metadata={'token_usage': {'prompt_tokens': 23, 'completion_tokens': 375, 'total_tokens': 398, 'latency_time': 11.706190586090088}, 'model_name': 'gpt-4o-2024-08-06', 'system_fingerprint': 'fp_d54531d9eb', 'headers': {'date': 'Fri, 18 Oct 2024 04:27:14 GMT', 'server': 'uvicorn', 'x-ms-region': 'North Central US', 'apim-request-id': 'c1e4a1fd-8147-481a-87fa-26d613318e01', 'x-accel-buffering': 'no', 'x-request-id': '70112bef-8140-42a1-8223-39225e28c7e2', 'x-ms-client-request-id': 'c1e4a1fd-8147-481a-87fa-26d613318e01', 'azureml-model-session': 'd114-20241017084655', 'cogcache-prompt-type': 'other', 'content-type': 'application/json', 'x-cache': 'miss', 'cogcache-cache-entry-id': 'cf4633e359ec6100b4b4cee7d056539a', 'transfer-encoding': 'chunked'}, 'finish_reason': 'stop', 'logprobs': None}, id='run-1d1a0277-5be2-4ad3-8ae5-12c2d91d38b1-0')"
      ]
     },
     "execution_count": 12,
     "metadata": {},
     "output_type": "execute_result"
    }
   ],
   "source": [
    "%%time\n",
    "\n",
    "llm.invoke(messages)"
   ]
  },
  {
   "cell_type": "markdown",
   "metadata": {},
   "source": [
    "### Exact prompt"
   ]
  },
  {
   "cell_type": "code",
   "execution_count": 13,
   "metadata": {},
   "outputs": [
    {
     "name": "stdout",
     "output_type": "stream",
     "text": [
      "CPU times: user 3.83 ms, sys: 2.25 ms, total: 6.08 ms\n",
      "Wall time: 12 ms\n"
     ]
    },
    {
     "data": {
      "text/plain": [
       "AIMessage(content=\"Photosynthesis is the process by which green plants, algae, and some bacteria convert light energy into chemical energy stored in glucose. This process primarily occurs in the chloroplasts of plant cells. Here's a simplified overview of how it works:\\n\\n1. **Light Absorption**: Chlorophyll, the green pigment in chloroplasts, absorbs sunlight, primarily in the blue and red wavelengths.\\n\\n2. **Water Splitting (Photolysis)**: The absorbed light energy is used to split water molecules (H₂O) into oxygen, protons, and electrons. This occurs in the thylakoid membranes of the chloroplasts.\\n\\n3. **Oxygen Release**: Oxygen (O₂) is released as a byproduct into the atmosphere.\\n\\n4. **Electron Transport Chain**: The electrons released from water splitting are transferred through a series of proteins embedded in the thylakoid membrane, known as the electron transport chain. This movement helps generate ATP and NADPH.\\n\\n5. **ATP and NADPH Formation**: The energy from the electrons is used to convert ADP and NADP⁺ into ATP and NADPH, respectively. These molecules are energy carriers used in the next stage of photosynthesis.\\n\\n6. **Calvin Cycle (Carbon Fixation)**: In the stroma of the chloroplasts, ATP and NADPH from the light-dependent reactions are used to convert carbon dioxide (CO₂) from the atmosphere into glucose. This cycle involves a series of reactions that incorporate CO₂ into organic molecules.\\n\\nOverall, photosynthesis can be summed up by the equation:\\n\\n\\\\[ 6CO₂ + 6H₂O + light \\\\ energy \\\\rightarrow C₆H₁₂O₆ + 6O₂ \\\\]\\n\\nThis process is crucial for life on Earth as it provides oxygen and organic compounds used by most organisms for energy.\", additional_kwargs={}, response_metadata={'token_usage': {'prompt_tokens': 23, 'completion_tokens': 375, 'total_tokens': 398, 'latency_time': 0.004049777984619141}, 'model_name': 'gpt-4o-2024-08-06', 'system_fingerprint': 'fp_d54531d9eb', 'headers': {'date': 'Fri, 18 Oct 2024 04:27:31 GMT', 'server': 'uvicorn', 'x-cache': 'hit', 'access-control-allow-origin': '*', 'access-control-allow-credentials': 'true', 'access-control-expose-headers': 'content-type,x-cache,cogcache-hit-type,cogcache-similarity-match-score,cogcache-hit-processing-ms,cogcache-latency-ms', 'access-control-allow-methods': 'GET, OPTIONS, POST', 'access-control-max-age': '600', 'vary': 'Origin', 'cogcache-hit-type': 'exact-match', 'cogcache-prompt-type': 'other', 'cogcache-cache-entry-id': 'cf4633e359ec6100b4b4cee7d056539a', 'content-length': '2840', 'content-type': 'application/json', 'cogcache-hit-processing-ms': '3.92'}, 'finish_reason': 'stop', 'logprobs': None}, id='run-fee3e9c6-4e6f-4a2c-a7dc-2c6a9f6a03e6-0')"
      ]
     },
     "execution_count": 13,
     "metadata": {},
     "output_type": "execute_result"
    }
   ],
   "source": [
    "%%time\n",
    "\n",
    "llm.invoke(messages)"
   ]
  },
  {
   "cell_type": "markdown",
   "metadata": {},
   "source": [
    "### Similar prompt"
   ]
  },
  {
   "cell_type": "code",
   "execution_count": 25,
   "metadata": {},
   "outputs": [
    {
     "name": "stdout",
     "output_type": "stream",
     "text": [
      "CPU times: user 2.89 ms, sys: 1.85 ms, total: 4.75 ms\n",
      "Wall time: 144 ms\n"
     ]
    },
    {
     "data": {
      "text/plain": [
       "AIMessage(content=\"Photosynthesis is the process by which green plants, algae, and some bacteria convert light energy into chemical energy stored in glucose. This process primarily occurs in the chloroplasts of plant cells. Here's a simplified overview of how it works:\\n\\n1. **Light Absorption**: Chlorophyll, the green pigment in chloroplasts, absorbs sunlight, primarily in the blue and red wavelengths.\\n\\n2. **Water Splitting (Photolysis)**: The absorbed light energy is used to split water molecules (H₂O) into oxygen, protons, and electrons. This occurs in the thylakoid membranes of the chloroplasts.\\n\\n3. **Oxygen Release**: Oxygen (O₂) is released as a byproduct into the atmosphere.\\n\\n4. **Electron Transport Chain**: The electrons released from water splitting are transferred through a series of proteins embedded in the thylakoid membrane, known as the electron transport chain. This movement helps generate ATP and NADPH.\\n\\n5. **ATP and NADPH Formation**: The energy from the electrons is used to convert ADP and NADP⁺ into ATP and NADPH, respectively. These molecules are energy carriers used in the next stage of photosynthesis.\\n\\n6. **Calvin Cycle (Carbon Fixation)**: In the stroma of the chloroplasts, ATP and NADPH from the light-dependent reactions are used to convert carbon dioxide (CO₂) from the atmosphere into glucose. This cycle involves a series of reactions that incorporate CO₂ into organic molecules.\\n\\nOverall, photosynthesis can be summed up by the equation:\\n\\n\\\\[ 6CO₂ + 6H₂O + light \\\\ energy \\\\rightarrow C₆H₁₂O₆ + 6O₂ \\\\]\\n\\nThis process is crucial for life on Earth as it provides oxygen and organic compounds used by most organisms for energy.\", additional_kwargs={}, response_metadata={'token_usage': {'prompt_tokens': 4, 'completion_tokens': 375, 'total_tokens': 379, 'latency_time': 0.13753747940063477}, 'model_name': 'gpt-4o-2024-08-06', 'system_fingerprint': 'fp_d54531d9eb', 'headers': {'date': 'Fri, 18 Oct 2024 05:05:26 GMT', 'server': 'uvicorn', 'x-cache': 'hit', 'access-control-allow-origin': '*', 'access-control-allow-credentials': 'true', 'access-control-expose-headers': 'content-type,x-cache,cogcache-hit-type,cogcache-similarity-match-score,cogcache-hit-processing-ms,cogcache-latency-ms', 'access-control-allow-methods': 'GET, OPTIONS, POST', 'access-control-max-age': '600', 'vary': 'Origin', 'cogcache-hit-type': 'similarity-match', 'cogcache-similarity-match-score': '0.01', 'cogcache-prompt-type': 'other', 'cogcache-cache-entry-id': 'cf4633e359ec6100b4b4cee7d056539a', 'content-length': '2838', 'content-type': 'application/json', 'cogcache-hit-processing-ms': '135.52'}, 'finish_reason': 'stop', 'logprobs': None}, id='run-e6b0138f-eb9b-44ef-98be-165c2f9811a0-0')"
      ]
     },
     "execution_count": 25,
     "metadata": {},
     "output_type": "execute_result"
    }
   ],
   "source": [
    "%%time\n",
    "\n",
    "messages = [\n",
    "    (\n",
    "        \"system\",\n",
    "        \"You are a helpful assistant.\",\n",
    "    ),\n",
    "    (\"human\", \"How photosynthesis works\"),\n",
    "]\n",
    "\n",
    "llm.invoke(messages)"
   ]
  },
  {
   "cell_type": "markdown",
   "metadata": {},
   "source": [
    "## Control caching behavior\n",
    "\n",
    "We can control caching behavior by using the `Cache-Control` request header.\n",
    "\n",
    "This header affects the cache behavior as follows:\n",
    "\n",
    "- `no-store` — disables storing the answer from the LLM in the cache\n",
    "- `no-cache` — disables retrieval of answer from cache, goes directly to the LLM\n",
    "- `only-if-cached` — retrieves answer only from the cache and if not found it returns 504 error code\n",
    "- `public` — normal behavior, it returns from cache if answer found there, otherwise retrieves answer from LLM and stores it in the cache"
   ]
  },
  {
   "cell_type": "code",
   "execution_count": 20,
   "metadata": {},
   "outputs": [
    {
     "data": {
      "text/plain": [
       "AIMessage(content='The capital of Australia is Canberra.', additional_kwargs={}, response_metadata={'token_usage': {'prompt_tokens': 14, 'completion_tokens': 7, 'total_tokens': 21, 'latency_time': 2.031675338745117}, 'model_name': 'gpt-4o-2024-08-06', 'system_fingerprint': 'fp_d54531d9eb', 'finish_reason': 'stop', 'logprobs': None}, id='run-fc18b0cc-720d-4c79-9187-7adafe5541d4-0')"
      ]
     },
     "execution_count": 20,
     "metadata": {},
     "output_type": "execute_result"
    }
   ],
   "source": [
    "from langchain_community.chat_models import ChatCogCache\n",
    "\n",
    "llm = ChatCogCache(\n",
    "    api_key=\"YOUR_API_KEY\",\n",
    "    model=\"gpt-4o-2024-08-06\",\n",
    "    default_headers={\"Cache-Control\": \"no-store\"}\n",
    ")\n",
    "\n",
    "llm.invoke(\n",
    "    'What is the capital of Australia?',\n",
    "    # headers={\"Cache-Control\": \"no-store\"} # alternative approach\n",
    ")"
   ]
  },
  {
   "cell_type": "markdown",
   "metadata": {},
   "source": [
    "## Response Headers\n",
    "\n",
    "We can access response headers directly with prompt invocation.\n",
    "\n",
    "#### 1. `X-Cache`\n",
    "This header tells if the response was provided from the cache or not. However, the header will not be available if Cache-Control has a value of `no-store` or `no-cache`.\n",
    "\n",
    "Possibles values:\n",
    "\n",
    "- `hit` - the answer was retrieved from cache\n",
    "- `miss` - the answer was retrieved directly from the LLM\n",
    "\n",
    "\n",
    "#### 2. `CogCache-Cache-Entry-ID`\n",
    "This response header holds the cache entry unique ID when the response is retrieved from cache. When the response is retrieved from the LLM this header will not be available."
   ]
  },
  {
   "cell_type": "code",
   "execution_count": 12,
   "metadata": {},
   "outputs": [
    {
     "data": {
      "text/plain": [
       "{'date': 'Thu, 17 Oct 2024 14:50:33 GMT',\n",
       " 'server': 'uvicorn',\n",
       " 'x-cache': 'hit',\n",
       " 'access-control-allow-origin': '*',\n",
       " 'access-control-allow-credentials': 'true',\n",
       " 'access-control-expose-headers': 'content-type,x-cache,cogcache-hit-type,cogcache-similarity-match-score,cogcache-hit-processing-ms,cogcache-latency-ms',\n",
       " 'access-control-allow-methods': 'GET, OPTIONS, POST',\n",
       " 'access-control-max-age': '600',\n",
       " 'vary': 'Origin',\n",
       " 'cogcache-hit-type': 'exact-match',\n",
       " 'cogcache-prompt-type': 'other',\n",
       " 'cogcache-cache-entry-id': 'b14b8f518b54e4ef2187972f217dacc0',\n",
       " 'content-length': '1125',\n",
       " 'content-type': 'application/json',\n",
       " 'cogcache-hit-processing-ms': '3.1'}"
      ]
     },
     "execution_count": 12,
     "metadata": {},
     "output_type": "execute_result"
    }
   ],
   "source": [
    "from langchain_community.chat_models import ChatCogCache\n",
    "\n",
    "llm = ChatCogCache(\n",
    "    api_key=\"YOUR_API_KEY\",\n",
    "    model=\"gpt-4-1106-preview\",\n",
    "    include_response_headers=True,  # set to True to include headers in the response\n",
    ")\n",
    "\n",
    "messages = [\n",
    "    (\n",
    "        \"system\",\n",
    "        \"You are a helpful assistant that translates English to French. Translate the user sentence.\",\n",
    "    ),\n",
    "    (\"human\", \"I love programming.\"),\n",
    "]\n",
    "response = llm.invoke(messages)\n",
    "response.response_metadata[\"headers\"]"
   ]
  },
  {
   "cell_type": "markdown",
   "metadata": {},
   "source": [
    "## API reference\n",
    "\n",
    "For detailed documentation of all CogCache features and configurations head to the API reference: https://cogcache.readme.io/reference/overview"
   ]
  }
 ],
 "metadata": {
  "kernelspec": {
   "display_name": "Python 3 (ipykernel)",
   "language": "python",
   "name": "python3"
  },
  "language_info": {
   "codemirror_mode": {
    "name": "ipython",
    "version": 3
   },
   "file_extension": ".py",
   "mimetype": "text/x-python",
   "name": "python",
   "nbconvert_exporter": "python",
   "pygments_lexer": "ipython3",
   "version": "3.12.4"
  }
 },
 "nbformat": 4,
 "nbformat_minor": 4
}
